{
 "cells": [
  {
   "cell_type": "markdown",
   "metadata": {},
   "source": [
    "#### Connect to Workspace"
   ]
  },
  {
   "cell_type": "code",
   "execution_count": 1,
   "metadata": {},
   "outputs": [],
   "source": [
    "# Import Libraries \n",
    "from azure.identity import DefaultAzureCredential,InteractiveBrowserCredential \n",
    "from azure.ai.ml import MLClient \n",
    "from azure.ai.ml.entities import AzureBlobDatastore, AccountKeyConfiguration, AmlCompute"
   ]
  },
  {
   "cell_type": "code",
   "execution_count": 2,
   "metadata": {},
   "outputs": [
    {
     "name": "stderr",
     "output_type": "stream",
     "text": [
      "Found the config file in: /config.json\n"
     ]
    },
    {
     "name": "stdout",
     "output_type": "stream",
     "text": [
      "MLClient(credential=<azure.identity._credentials.default.DefaultAzureCredential object at 0x7fccd770abf0>,\n",
      "         subscription_id=567f42ad-44d7-4850-aada-1d69d5b9aae9,\n",
      "         resource_group_name=dp-100rg,\n",
      "         workspace_name=projectomegadev)\n"
     ]
    }
   ],
   "source": [
    "# get connection to workspace \n",
    "try:\n",
    "    credential = DefaultAzureCredential()\n",
    "    credential.get_token(\"https://management.azure.com/.default\")\n",
    "except Exception as ex:\n",
    "    credential = InteractiveBrowserCredential()\n",
    "    \n",
    "# get token \n",
    "ws = MLClient.from_config(credential=credential)\n",
    "print(ws)"
   ]
  },
  {
   "cell_type": "markdown",
   "metadata": {},
   "source": [
    "##### Connect Data Lake to Work Station"
   ]
  },
  {
   "cell_type": "code",
   "execution_count": 5,
   "metadata": {},
   "outputs": [],
   "source": [
    "# connect a Gen2 Storage account to workspace \n",
    "\n",
    "ds = AzureBlobDatastore(\n",
    "    name=\"ws_datastore\",\n",
    "    account_name=\"projectomegadatalake2\",\n",
    "    container_name=\"data\",\n",
    "    description=\"Data Store for ML\",\n",
    "    credentials=AccountKeyConfiguration(\n",
    "        account_key=\"\"\n",
    "    )    \n",
    ")\n",
    "# create datastore\n",
    "ws.create_or_update(ds)"
   ]
  },
  {
   "cell_type": "code",
   "execution_count": 3,
   "metadata": {},
   "outputs": [
    {
     "name": "stdout",
     "output_type": "stream",
     "text": [
      "ws_datastore\n",
      "omegadatalake2\n",
      "workspaceartifactstore\n",
      "workspaceworkingdirectory\n",
      "workspaceblobstore\n",
      "workspacefilestore\n"
     ]
    }
   ],
   "source": [
    "# list datastores connected to workspace \n",
    "ds = ws.datastores.list()\n",
    "for each in ds:\n",
    "    print(each.name)"
   ]
  },
  {
   "cell_type": "markdown",
   "metadata": {},
   "source": [
    "#### Create Compute Cluster"
   ]
  },
  {
   "cell_type": "code",
   "execution_count": 8,
   "metadata": {},
   "outputs": [
    {
     "name": "stdout",
     "output_type": "stream",
     "text": [
      "Creating a new cpu compute target...\n"
     ]
    }
   ],
   "source": [
    "# create name and assign to the compute cluster\n",
    "cpu_compute_target = \"compute-cluster\"\n",
    "\n",
    "try:\n",
    "    # check if the compute target already exists\n",
    "    cpu_cluster = ws.compute.get(cpu_compute_target)\n",
    "    print(\n",
    "        f\"You already have a cluster named {cpu_compute_target}, we'll reuse it as is.\"\n",
    "    )\n",
    "\n",
    "except Exception:\n",
    "    print(\"Creating a new cpu compute target...\")\n",
    "\n",
    "    # create the Azure ML compute object with the intended parameters\n",
    "    cpu_cluster = AmlCompute(\n",
    "        name=cpu_compute_target,\n",
    "        type=\"amlcompute\",\n",
    "        size=\"STANDARD_DS11_V2\",\n",
    "        min_instances=0,\n",
    "        max_instances=2,\n",
    "        idle_time_before_scale_down=120,\n",
    "        tier=\"Dedicated\",\n",
    "    )\n",
    "\n",
    "    # Now, we pass the object to MLClient's create_or_update method\n",
    "    cpu_cluster = ws.compute.begin_create_or_update(cpu_cluster)"
   ]
  },
  {
   "cell_type": "code",
   "execution_count": 4,
   "metadata": {},
   "outputs": [
    {
     "name": "stdout",
     "output_type": "stream",
     "text": [
      "You already have a cluster named enable_node_public_ip: true\n",
      "id: /subscriptions/567f42ad-44d7-4850-aada-1d69d5b9aae9/resourceGroups/dp-100rg/providers/Microsoft.MachineLearningServices/workspaces/projectomegadev/computes/compute-cluster\n",
      "idle_time_before_scale_down: 120\n",
      "location: eastus\n",
      "max_instances: 2\n",
      "min_instances: 0\n",
      "name: compute-cluster\n",
      "network_settings: {}\n",
      "provisioning_state: Succeeded\n",
      "size: STANDARD_DS11_V2\n",
      "ssh_public_access_enabled: true\n",
      "tier: dedicated\n",
      "type: amlcompute\n",
      ".\n"
     ]
    }
   ],
   "source": [
    "# confirm compute cluster \n",
    "name = ws.compute.get(\"compute-cluster\")\n",
    "print(f\"You already have a cluster named {name}.\")"
   ]
  }
 ],
 "metadata": {
  "kernelspec": {
   "display_name": "Python 3.10 - SDK v2",
   "language": "python",
   "name": "python310-sdkv2"
  }
 },
 "nbformat": 4,
 "nbformat_minor": 4
}
