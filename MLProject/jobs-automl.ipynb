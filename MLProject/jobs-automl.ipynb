{
 "cells": [
  {
   "cell_type": "markdown",
   "metadata": {},
   "source": [
    "#### Perform AutoML Job"
   ]
  },
  {
   "cell_type": "code",
   "execution_count": 3,
   "metadata": {},
   "outputs": [],
   "source": [
    "# Import Libraries \n",
    "from azure.identity import DefaultAzureCredential, InteractiveBrowserCredential \n",
    "from azure.ai.ml import MLClient, Input, automl\n",
    "from azure.ai.ml.constants import AssetTypes"
   ]
  },
  {
   "cell_type": "code",
   "execution_count": 2,
   "metadata": {},
   "outputs": [
    {
     "name": "stderr",
     "output_type": "stream",
     "text": [
      "Found the config file in: /config.json\n"
     ]
    },
    {
     "name": "stdout",
     "output_type": "stream",
     "text": [
      "MLClient(credential=<azure.identity._credentials.default.DefaultAzureCredential object at 0x7f1e14afa950>,\n",
      "         subscription_id=567f42ad-44d7-4850-aada-1d69d5b9aae9,\n",
      "         resource_group_name=dp-100rg,\n",
      "         workspace_name=projectomegadev)\n"
     ]
    }
   ],
   "source": [
    "# get connection to workspace \n",
    "try:\n",
    "    credential = DefaultAzureCredential()\n",
    "    credential.get_token(\"https://management.azure.com/.default\")\n",
    "except Exception as ex:\n",
    "    credential = InteractiveBrowserCredential()\n",
    "    \n",
    "# get token \n",
    "ws = MLClient.from_config(credential=credential)\n",
    "print(ws)"
   ]
  },
  {
   "cell_type": "code",
   "execution_count": 4,
   "metadata": {},
   "outputs": [],
   "source": [
    "# get the data for AutoML job \n",
    "export_data = Input(type=AssetTypes.MLTABLE, path=\"azureml:cleaned-crop-export:1\")"
   ]
  },
  {
   "cell_type": "code",
   "execution_count": 6,
   "metadata": {},
   "outputs": [
    {
     "name": "stdout",
     "output_type": "stream",
     "text": [
      "Job studio url: \n",
      " https://ml.azure.com/runs/funny_endive_cbrsmjcrlg?wsid=/subscriptions/567f42ad-44d7-4850-aada-1d69d5b9aae9/resourcegroups/dp-100rg/workspaces/projectomegadev&tid=a684a124-688f-4ad4-a587-1b2c2eb6febf\n"
     ]
    }
   ],
   "source": [
    "# set AutoML Job \n",
    "export_value_job = automl.regression(\n",
    "    compute=\"compute-cluster\",\n",
    "    experiment_name=\"automl-crop-export-value\",\n",
    "    training_data=export_data,\n",
    "    target_column_name=\"Export_Value\",\n",
    "    primary_metric=\"r2_score\",\n",
    "    enable_model_explainability=True,\n",
    "    n_cross_validations=5\n",
    ")\n",
    "\n",
    "# set limit \n",
    "export_value_job.set_limits(\n",
    "    timeout_minutes=60,\n",
    "    trial_timeout_minutes=20,\n",
    "    max_trials=5,\n",
    "    enable_early_termination=True\n",
    ")\n",
    "\n",
    "# set automl training properties\n",
    "export_value_job.set_training(\n",
    "    blocked_training_algorithms=['DecisionTree'],\n",
    "    enable_onnx_compatible_models=True\n",
    ")\n",
    "\n",
    "# set job featurization \n",
    "export_value_job.set_featurization(\n",
    "    mode=\"auto\"\n",
    ")\n",
    "\n",
    "# execute job \n",
    "executed_job = ws.jobs.create_or_update(export_value_job)\n",
    "print(f\"Job studio url: \\n {executed_job.studio_url}\")"
   ]
  }
 ],
 "metadata": {
  "kernelspec": {
   "display_name": "Python 3.10 - SDK v2",
   "language": "python",
   "name": "python310-sdkv2"
  }
 },
 "nbformat": 4,
 "nbformat_minor": 2
}
