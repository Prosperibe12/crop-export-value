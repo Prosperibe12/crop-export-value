{
 "cells": [
  {
   "cell_type": "markdown",
   "metadata": {},
   "source": [
    "#### Deploy Trained Model"
   ]
  },
  {
   "cell_type": "code",
   "execution_count": 20,
   "metadata": {},
   "outputs": [],
   "source": [
    "# Import required libraries \n",
    "from datetime import datetime\n",
    "from azure.identity import DefaultAzureCredential,InteractiveBrowserCredential \n",
    "from azure.ai.ml import MLClient \n",
    "from azure.ai.ml.entities import ManagedOnlineDeployment, ManagedOnlineEndpoint, Model \n",
    "from azure.ai.ml.constants import AssetTypes\n"
   ]
  },
  {
   "cell_type": "code",
   "execution_count": 2,
   "metadata": {},
   "outputs": [
    {
     "name": "stderr",
     "output_type": "stream",
     "text": [
      "Found the config file in: /config.json\n"
     ]
    },
    {
     "name": "stdout",
     "output_type": "stream",
     "text": [
      "MLClient(credential=<azure.identity._credentials.default.DefaultAzureCredential object at 0x7f8746ed72b0>,\n",
      "         subscription_id=567f42ad-44d7-4850-aada-1d69d5b9aae9,\n",
      "         resource_group_name=dp-100rg,\n",
      "         workspace_name=projectomegadev)\n"
     ]
    }
   ],
   "source": [
    "# connect to workspace\n",
    "try:\n",
    "    credential = DefaultAzureCredential()\n",
    "    # get credential\n",
    "    credential.get_token(\"https://management.azure.com/.default\")\n",
    "except Exception as ex:\n",
    "    # Fall back to InteractiveBrowserCredential\n",
    "    credential = InteractiveBrowserCredential()\n",
    "    \n",
    "# get token \n",
    "ws = MLClient.from_config(credential=credential)\n",
    "print(ws)"
   ]
  },
  {
   "cell_type": "markdown",
   "metadata": {},
   "source": [
    "#### Create an Endpoint"
   ]
  },
  {
   "cell_type": "code",
   "execution_count": 18,
   "metadata": {},
   "outputs": [
    {
     "name": "stdout",
     "output_type": "stream",
     "text": [
      "<azure.core.polling._poller.LROPoller object at 0x7f874434f4f0> created\n"
     ]
    }
   ],
   "source": [
    "# define endpoint name \n",
    "endpoint_name = f\"export-value-model-{datetime.now().strftime('%Y-%m-%d')}\"\n",
    "\n",
    "# register the endpoint \n",
    "endpoint = ManagedOnlineEndpoint(\n",
    "    name=endpoint_name,\n",
    "    auth_mode=\"key\",\n",
    "    description=\"Endpoint for predicting export value of crop products\"\n",
    ")\n",
    "\n",
    "# create endpoint \n",
    "returned_endpoint = ws.begin_create_or_update(endpoint)\n",
    "print(returned_endpoint, \"created\")"
   ]
  },
  {
   "cell_type": "markdown",
   "metadata": {},
   "source": [
    "#### Deploy model to online endpoint"
   ]
  },
  {
   "cell_type": "code",
   "execution_count": 24,
   "metadata": {},
   "outputs": [],
   "source": [
    "\n",
    "# deploy the model to online endpoint created\n",
    "model = Model(\n",
    "    path=\"/home/azureuser/cloudfiles/code/Users/deborahashante/MLProject/model\",\n",
    "    type=AssetTypes.MLFLOW_MODEL,\n",
    "    description=\"Export Value Model\",\n",
    ")\n",
    "\n",
    "deployment = ManagedOnlineDeployment(\n",
    "    name=\"blue\",\n",
    "    endpoint_name=endpoint_name,\n",
    "    model=model,\n",
    "    instance_type=\"Standard_DS3_v2\",\n",
    "    instance_count=1,\n",
    ")\n",
    "\n",
    "# deploy\n",
    "ws.online_deployments.begin_create_or_update(deployment).result()\n",
    "print(\"Deployed!\")"
   ]
  },
  {
   "cell_type": "markdown",
   "metadata": {},
   "source": [
    "#### Test Endpoint"
   ]
  },
  {
   "cell_type": "code",
   "execution_count": null,
   "metadata": {},
   "outputs": [],
   "source": [
    "# test the blue deployment with some sample data\n",
    "export_value = ws.online_endpoints.invoke(\n",
    "    endpoint_name=endpoint_name,\n",
    "    deployment_name=\"blue\",\n",
    "    request_file=\"sample-input.json\",\n",
    ")\n",
    "# print prediction\n",
    "print(f\"The export value is: {export_value}\")\n"
   ]
  }
 ],
 "metadata": {
  "kernelspec": {
   "display_name": "Python 3.10 - SDK v2",
   "language": "python",
   "name": "python310-sdkv2"
  }
 },
 "nbformat": 4,
 "nbformat_minor": 2
}
