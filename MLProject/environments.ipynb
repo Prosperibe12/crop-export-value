{
 "cells": [
  {
   "cell_type": "markdown",
   "metadata": {},
   "source": [
    "#### Create a Curated Tensorflow Environment"
   ]
  },
  {
   "cell_type": "code",
   "execution_count": 8,
   "metadata": {},
   "outputs": [],
   "source": [
    "# Import required libraries \n",
    "from azure.identity import DefaultAzureCredential, InteractiveBrowserCredential \n",
    "from azure.ai.ml import MLClient \n",
    "from azure.ai.ml.entities import Environment"
   ]
  },
  {
   "cell_type": "code",
   "execution_count": 9,
   "metadata": {},
   "outputs": [
    {
     "name": "stderr",
     "output_type": "stream",
     "text": [
      "Found the config file in: /config.json\n"
     ]
    },
    {
     "name": "stdout",
     "output_type": "stream",
     "text": [
      "MLClient(credential=<azure.identity._credentials.default.DefaultAzureCredential object at 0x7f197a393250>,\n",
      "         subscription_id=567f42ad-44d7-4850-aada-1d69d5b9aae9,\n",
      "         resource_group_name=dp-100rg,\n",
      "         workspace_name=projectomegadev)\n"
     ]
    }
   ],
   "source": [
    "# get connection to workspace \n",
    "try:\n",
    "    credential = DefaultAzureCredential()\n",
    "    credential.get_token(\"https://management.azure.com/.default\")\n",
    "except Exception as ex:\n",
    "    credential = InteractiveBrowserCredential()\n",
    "    \n",
    "# get token \n",
    "ws = MLClient.from_config(credential=credential)\n",
    "print(ws)"
   ]
  },
  {
   "cell_type": "code",
   "execution_count": 10,
   "metadata": {},
   "outputs": [
    {
     "name": "stdout",
     "output_type": "stream",
     "text": [
      "export-value-tensorflow-env\n",
      "AzureML-ACPT-pytorch-1.13-py38-cuda11.7-gpu\n"
     ]
    }
   ],
   "source": [
    "# list environments in workspace \n",
    "envs = ws.environments.list()\n",
    "\n",
    "for each in envs:\n",
    "    print(each.name)"
   ]
  },
  {
   "cell_type": "code",
   "execution_count": 11,
   "metadata": {},
   "outputs": [
    {
     "name": "stdout",
     "output_type": "stream",
     "text": [
      "Overwriting /home/azureuser/cloudfiles/code/Users/deborahashante/MLProject/src/conda_env.yml\n"
     ]
    }
   ],
   "source": [
    "\n",
    "%%writefile /home/azureuser/cloudfiles/code/Users/deborahashante/MLProject/src/conda_env.yml \n",
    "name: export-env-cpu\n",
    "channels:\n",
    "- conda-forge\n",
    "- defaults\n",
    "dependencies:\n",
    "- python=3.8\n",
    "- pip=21.1\n",
    "- pandas~=1.3.0\n",
    "- scipy~=1.7.0\n",
    "- numpy~=1.22.0\n",
    "- seaborn\n",
    "- scikit-learn\n",
    "- pip:\n",
    "  - setuptools==65.5.1\n",
    "  - wheel~=0.38.1\n",
    "  - matplotlib~=3.5.0\n",
    "  - psutil~=5.8.0\n",
    "  - tqdm~=4.62.0\n",
    "  - ipykernel~=6.20.2\n",
    "  - azureml-core==1.56.0\n",
    "  - azureml-defaults==1.56.0\n",
    "  - azureml-mlflow==1.56.0\n",
    "  - azureml-telemetry==1.56.0\n",
    "  - tensorboard~=2.12.0\n",
    "  - tensorflow~=2.12.0\n",
    "  - tensorflow-datasets~=4.5.0\n",
    "  - onnxruntime~=1.9.0\n",
    "  - protobuf~=4.22.0\n",
    "  - horovod[tensorflow]\n",
    "  - debugpy~=1.6.3\n",
    "  - cryptography>=41.0.4"
   ]
  },
  {
   "cell_type": "code",
   "execution_count": 12,
   "metadata": {},
   "outputs": [
    {
     "data": {
      "text/plain": [
       "Environment({'intellectual_property': None, 'is_anonymous': False, 'auto_increment_version': False, 'auto_delete_setting': None, 'name': 'export-value-tensorflow-env', 'description': 'curated environment for export value model', 'tags': {}, 'properties': {'azureml.labels': 'latest'}, 'print_as_yaml': True, 'id': '/subscriptions/567f42ad-44d7-4850-aada-1d69d5b9aae9/resourceGroups/dp-100rg/providers/Microsoft.MachineLearningServices/workspaces/projectomegadev/environments/export-value-tensorflow-env/versions/5', 'Resource__source_path': None, 'base_path': '/mnt/batch/tasks/shared/LS_root/mounts/clusters/dev-ws-compute/code', 'creation_context': <azure.ai.ml.entities._system_data.SystemData object at 0x7f197a37da80>, 'serialize': <msrest.serialization.Serializer object at 0x7f197a37cc40>, 'version': '5', 'latest_version': None, 'conda_file': {'channels': ['conda-forge', 'defaults'], 'dependencies': ['python=3.8', 'pip=21.1', 'pandas~=1.3.0', 'scipy~=1.7.0', 'numpy~=1.22.0', 'seaborn', 'scikit-learn', {'pip': ['setuptools==65.5.1', 'wheel~=0.38.1', 'matplotlib~=3.5.0', 'psutil~=5.8.0', 'tqdm~=4.62.0', 'ipykernel~=6.20.2', 'azureml-core==1.56.0', 'azureml-defaults==1.56.0', 'azureml-mlflow==1.56.0', 'azureml-telemetry==1.56.0', 'tensorboard~=2.12.0', 'tensorflow~=2.12.0', 'tensorflow-datasets~=4.5.0', 'onnxruntime~=1.9.0', 'protobuf~=4.22.0', 'horovod[tensorflow]', 'debugpy~=1.6.3', 'cryptography>=41.0.4']}], 'name': 'export-env-cpu'}, 'image': 'mcr.microsoft.com/azureml/openmpi3.1.2-ubuntu18.04', 'build': None, 'inference_config': None, 'os_type': 'Linux', 'arm_type': 'environment_version', 'conda_file_path': None, 'path': None, 'datastore': None, 'upload_hash': None, 'translated_conda_file': '{\\n  \"channels\": [\\n    \"conda-forge\",\\n    \"defaults\"\\n  ],\\n  \"dependencies\": [\\n    \"python=3.8\",\\n    \"pip=21.1\",\\n    \"pandas~=1.3.0\",\\n    \"scipy~=1.7.0\",\\n    \"numpy~=1.22.0\",\\n    \"seaborn\",\\n    \"scikit-learn\",\\n    {\\n      \"pip\": [\\n        \"setuptools==65.5.1\",\\n        \"wheel~=0.38.1\",\\n        \"matplotlib~=3.5.0\",\\n        \"psutil~=5.8.0\",\\n        \"tqdm~=4.62.0\",\\n        \"ipykernel~=6.20.2\",\\n        \"azureml-core==1.56.0\",\\n        \"azureml-defaults==1.56.0\",\\n        \"azureml-mlflow==1.56.0\",\\n        \"azureml-telemetry==1.56.0\",\\n        \"tensorboard~=2.12.0\",\\n        \"tensorflow~=2.12.0\",\\n        \"tensorflow-datasets~=4.5.0\",\\n        \"onnxruntime~=1.9.0\",\\n        \"protobuf~=4.22.0\",\\n        \"horovod[tensorflow]\",\\n        \"debugpy~=1.6.3\",\\n        \"cryptography>=41.0.4\"\\n      ]\\n    }\\n  ],\\n  \"name\": \"export-env-cpu\"\\n}'})"
      ]
     },
     "execution_count": 12,
     "metadata": {},
     "output_type": "execute_result"
    }
   ],
   "source": [
    "# create environment \n",
    "environ = Environment(\n",
    "    name=\"export-value-tensorflow-env\",\n",
    "    image=\"mcr.microsoft.com/azureml/openmpi3.1.2-ubuntu18.04\",\n",
    "    conda_file=\"/home/azureuser/cloudfiles/code/Users/deborahashante/MLProject/src/conda_env.yml\",\n",
    "    description=\"curated environment for export value model\"\n",
    ")\n",
    "\n",
    "ws.environments.create_or_update(environ)"
   ]
  }
 ],
 "metadata": {
  "kernelspec": {
   "display_name": "Python 3.10 - SDK v2",
   "language": "python",
   "name": "python310-sdkv2"
  }
 },
 "nbformat": 4,
 "nbformat_minor": 2
}
