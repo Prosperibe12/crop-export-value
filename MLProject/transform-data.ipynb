{
 "cells": [
  {
   "cell_type": "markdown",
   "metadata": {},
   "source": [
    "#### Transform Data"
   ]
  },
  {
   "cell_type": "code",
   "execution_count": 1,
   "metadata": {},
   "outputs": [],
   "source": [
    "# Import Libraries \n",
    "from azure.identity import DefaultAzureCredential,InteractiveBrowserCredential \n",
    "from azure.ai.ml import MLClient\n",
    "import pandas as pd"
   ]
  },
  {
   "cell_type": "code",
   "execution_count": 2,
   "metadata": {},
   "outputs": [
    {
     "name": "stderr",
     "output_type": "stream",
     "text": [
      "Found the config file in: /config.json\n"
     ]
    },
    {
     "name": "stdout",
     "output_type": "stream",
     "text": [
      "MLClient(credential=<azure.identity._credentials.default.DefaultAzureCredential object at 0x7f1cc28f9f90>,\n",
      "         subscription_id=567f42ad-44d7-4850-aada-1d69d5b9aae9,\n",
      "         resource_group_name=dp-100rg,\n",
      "         workspace_name=projectomegadev)\n"
     ]
    }
   ],
   "source": [
    "# get connection to workspace \n",
    "try:\n",
    "    credential = DefaultAzureCredential()\n",
    "    credential.get_token(\"https://management.azure.com/.default\")\n",
    "except Exception as ex:\n",
    "    credential = InteractiveBrowserCredential()\n",
    "    \n",
    "# get token \n",
    "ws = MLClient.from_config(credential=credential)\n",
    "print(ws)"
   ]
  },
  {
   "cell_type": "markdown",
   "metadata": {},
   "source": [
    "#### Read data in pandas"
   ]
  },
  {
   "cell_type": "code",
   "execution_count": 3,
   "metadata": {},
   "outputs": [
    {
     "name": "stderr",
     "output_type": "stream",
     "text": [
      "/tmp/ipykernel_21270/1699354301.py:7: DtypeWarning: Columns (14) have mixed types. Specify dtype option on import or set low_memory=False.\n",
      "  land_use_df = pd.read_csv(data_path+\"Land use - FAOSTAT_data_en_2-22-2024.csv\")\n"
     ]
    }
   ],
   "source": [
    "# read data from selected files to pandas dataframe\n",
    "data_path = '/home/azureuser/cloudfiles/code/Users/deborahashante/MLProject/data/' \n",
    "\n",
    "crops_production_df = pd.read_csv(data_path+'Crops production indicators - FAOSTAT_data_en_2-22-2024.csv')\n",
    "food_trade_df = pd.read_csv(data_path+'Food trade indicators - FAOSTAT_data_en_2-22-2024.csv')\n",
    "food_balance_df = pd.read_csv(data_path+\"Food balances indicators - FAOSTAT_data_en_2-22-2024.csv\")\n",
    "land_use_df = pd.read_csv(data_path+\"Land use - FAOSTAT_data_en_2-22-2024.csv\")\n",
    "exchange_rate_df = pd.read_csv(data_path+\"Exchange rate - FAOSTAT_data_en_2-22-2024.csv\")"
   ]
  },
  {
   "cell_type": "markdown",
   "metadata": {},
   "source": [
    "#### Transform & select relevant features"
   ]
  },
  {
   "cell_type": "code",
   "execution_count": 6,
   "metadata": {},
   "outputs": [],
   "source": [
    "# function that returns a simplified dataframe for each dataset\n",
    "def prepare_dataset(df, value_columns, rename_columns):\n",
    "    \"\"\"\n",
    "    Prepares a dataset by selecting the 'Area', 'Year', and specified value columns.\n",
    "    Renames the selected columns for clarity.\n",
    "    \"\"\"\n",
    "    df = df[['Area', 'Year'] + value_columns].copy()\n",
    "    df = df.rename(columns=rename_columns).reset_index(drop=True)\n",
    "    return df"
   ]
  },
  {
   "cell_type": "code",
   "execution_count": 7,
   "metadata": {},
   "outputs": [],
   "source": [
    "# filter the Item Column for only crop based products\n",
    "crops = ['Cereals and Preparations','Fruit and Vegetables','Tobacco','Other food']\n",
    "# get export value value of food traded\n",
    "food_trade_filtered = prepare_dataset(food_trade_df[(food_trade_df['Element']=='Export Value') & (food_trade_df['Item'].isin(crops))], ['Value'], {'Value': 'Export_Value'})\n",
    "food_trade_filtered = food_trade_filtered[(food_trade_filtered['Export_Value']>0.00)]"
   ]
  },
  {
   "cell_type": "code",
   "execution_count": 8,
   "metadata": {},
   "outputs": [],
   "source": [
    "# select Land Areas specifically used for Agriculture\n",
    "area = ['Agricultural land','Cropland','Agriculture','Arable land','Temporary crops','Permanent crops','Land area equipped for irrigation',\n",
    "       'Land area actually irrigated','Agriculture area actually irrigated']\n",
    "# get value of total land for Agriculture\n",
    "land_use_filtered = prepare_dataset(land_use_df[(land_use_df['Item'].isin(area))], ['Value'], {'Value': 'Land_use'})\n",
    "land_use_filtered = land_use_filtered[(land_use_filtered['Land_use']>0.00)]"
   ]
  },
  {
   "cell_type": "code",
   "execution_count": 9,
   "metadata": {},
   "outputs": [],
   "source": [
    "# get crop based products that were exported\n",
    "items = ['Cereals - Excluding Beer','Starchy Roots','Sugar Crops','Pulses','Treenuts','Spices','Vegetables','Oilcrops','Fruits - Excluding Wine']\n",
    "# get exported quantity from food balance data\n",
    "food_balance_filtered = prepare_dataset(food_balance_df[(food_balance_df['Element'] == 'Export Quantity') & (food_balance_df['Item'].isin(items))], ['Value'], {'Value': 'Export_Quantity'})\n",
    "food_balance_filtered = food_balance_filtered[(food_balance_filtered['Export_Quantity']>0.00)]"
   ]
  },
  {
   "cell_type": "code",
   "execution_count": 10,
   "metadata": {},
   "outputs": [],
   "source": [
    "# get value for total crop production dataset\n",
    "crop_production_filtered = prepare_dataset(crops_production_df, ['Value'], {'Value': 'Total_Production'})\n",
    "crop_production_filtered = crop_production_filtered[(crop_production_filtered['Total_Production']>0.00)]"
   ]
  },
  {
   "cell_type": "code",
   "execution_count": 11,
   "metadata": {},
   "outputs": [],
   "source": [
    "# get value for Exchange Rate\n",
    "exchange_rate_filtered = prepare_dataset(exchange_rate_df, ['Value'], {'Value': 'Exchange_Rate'})"
   ]
  },
  {
   "cell_type": "markdown",
   "metadata": {},
   "source": [
    "##### Aggregate Dataset & Merge data"
   ]
  },
  {
   "cell_type": "code",
   "execution_count": 12,
   "metadata": {},
   "outputs": [],
   "source": [
    "# Some data were recorded for different Items in same year, I will group and sum or average them.\n",
    "crop_production = crop_production_filtered.groupby([\"Area\", \"Year\"])[\"Total_Production\"].sum().round(2).reset_index()\n",
    "\n",
    "# get average land use for agriculture per year for each country\n",
    "land_use = land_use_filtered.groupby([\"Area\", \"Year\"])[\"Land_use\"].mean().round(2).reset_index()\n",
    "\n",
    "# get the sum value of food trade\n",
    "food_trade = food_trade_filtered.groupby([\"Area\", \"Year\"])[\"Export_Value\"].sum().round(2).reset_index()\n",
    "\n",
    "# get value of total exported quantity of crop products\n",
    "food_balance = food_balance_filtered.groupby([\"Area\", \"Year\"])[\"Export_Quantity\"].sum().round(2).reset_index()\n",
    "\n",
    "# get mean exchage rate per year for each country\n",
    "exchange_rate = exchange_rate_filtered.groupby([\"Area\", \"Year\"])[\"Exchange_Rate\"].mean().round(2).reset_index()"
   ]
  },
  {
   "cell_type": "code",
   "execution_count": 13,
   "metadata": {},
   "outputs": [],
   "source": [
    "# merging the individual datasets\n",
    "AB = pd.merge(land_use, crop_production, on=['Area', 'Year'], how='inner')\n",
    "# merge food balance\n",
    "AC = pd.merge(AB, food_balance, on=['Area', 'Year'], how='inner')\n",
    "# merge exchange rate\n",
    "AD = pd.merge(AC, exchange_rate, on=['Area', 'Year'], how='inner')\n",
    "# merge food trade data\n",
    "merged_data = pd.merge(AD,food_trade,on=['Area', 'Year'], how='inner')"
   ]
  },
  {
   "cell_type": "code",
   "execution_count": 14,
   "metadata": {},
   "outputs": [
    {
     "data": {
      "text/html": [
       "<div>\n",
       "<style scoped>\n",
       "    .dataframe tbody tr th:only-of-type {\n",
       "        vertical-align: middle;\n",
       "    }\n",
       "\n",
       "    .dataframe tbody tr th {\n",
       "        vertical-align: top;\n",
       "    }\n",
       "\n",
       "    .dataframe thead th {\n",
       "        text-align: right;\n",
       "    }\n",
       "</style>\n",
       "<table border=\"1\" class=\"dataframe\">\n",
       "  <thead>\n",
       "    <tr style=\"text-align: right;\">\n",
       "      <th></th>\n",
       "      <th>Area</th>\n",
       "      <th>Year</th>\n",
       "      <th>Land_use</th>\n",
       "      <th>Total_Production</th>\n",
       "      <th>Export_Quantity</th>\n",
       "      <th>Exchange_Rate</th>\n",
       "      <th>Export_Value</th>\n",
       "    </tr>\n",
       "  </thead>\n",
       "  <tbody>\n",
       "    <tr>\n",
       "      <th>0</th>\n",
       "      <td>Afghanistan</td>\n",
       "      <td>2010</td>\n",
       "      <td>11349.89</td>\n",
       "      <td>673334</td>\n",
       "      <td>360.0</td>\n",
       "      <td>46.45</td>\n",
       "      <td>203541.00</td>\n",
       "    </tr>\n",
       "    <tr>\n",
       "      <th>1</th>\n",
       "      <td>Afghanistan</td>\n",
       "      <td>2011</td>\n",
       "      <td>11337.44</td>\n",
       "      <td>683984</td>\n",
       "      <td>277.0</td>\n",
       "      <td>46.75</td>\n",
       "      <td>173841.00</td>\n",
       "    </tr>\n",
       "    <tr>\n",
       "      <th>2</th>\n",
       "      <td>Afghanistan</td>\n",
       "      <td>2012</td>\n",
       "      <td>11384.67</td>\n",
       "      <td>665926</td>\n",
       "      <td>198.0</td>\n",
       "      <td>50.92</td>\n",
       "      <td>159095.00</td>\n",
       "    </tr>\n",
       "    <tr>\n",
       "      <th>3</th>\n",
       "      <td>Afghanistan</td>\n",
       "      <td>2013</td>\n",
       "      <td>11391.44</td>\n",
       "      <td>716387</td>\n",
       "      <td>281.0</td>\n",
       "      <td>55.38</td>\n",
       "      <td>214687.00</td>\n",
       "    </tr>\n",
       "    <tr>\n",
       "      <th>4</th>\n",
       "      <td>Afghanistan</td>\n",
       "      <td>2014</td>\n",
       "      <td>11409.67</td>\n",
       "      <td>676465</td>\n",
       "      <td>410.0</td>\n",
       "      <td>57.25</td>\n",
       "      <td>384488.12</td>\n",
       "    </tr>\n",
       "  </tbody>\n",
       "</table>\n",
       "</div>"
      ],
      "text/plain": [
       "          Area  Year  Land_use  Total_Production  Export_Quantity  \\\n",
       "0  Afghanistan  2010  11349.89            673334            360.0   \n",
       "1  Afghanistan  2011  11337.44            683984            277.0   \n",
       "2  Afghanistan  2012  11384.67            665926            198.0   \n",
       "3  Afghanistan  2013  11391.44            716387            281.0   \n",
       "4  Afghanistan  2014  11409.67            676465            410.0   \n",
       "\n",
       "   Exchange_Rate  Export_Value  \n",
       "0          46.45     203541.00  \n",
       "1          46.75     173841.00  \n",
       "2          50.92     159095.00  \n",
       "3          55.38     214687.00  \n",
       "4          57.25     384488.12  "
      ]
     },
     "execution_count": 14,
     "metadata": {},
     "output_type": "execute_result"
    }
   ],
   "source": [
    "# display data \n",
    "merged_data.head()"
   ]
  },
  {
   "cell_type": "markdown",
   "metadata": {},
   "source": [
    "#### Clean Data"
   ]
  },
  {
   "cell_type": "code",
   "execution_count": 15,
   "metadata": {},
   "outputs": [
    {
     "name": "stdout",
     "output_type": "stream",
     "text": [
      "<class 'pandas.core.frame.DataFrame'>\n",
      "RangeIndex: 1979 entries, 0 to 1978\n",
      "Data columns (total 7 columns):\n",
      " #   Column            Non-Null Count  Dtype  \n",
      "---  ------            --------------  -----  \n",
      " 0   Area              1979 non-null   object \n",
      " 1   Year              1979 non-null   int64  \n",
      " 2   Land_use          1979 non-null   float64\n",
      " 3   Total_Production  1979 non-null   int64  \n",
      " 4   Export_Quantity   1979 non-null   float64\n",
      " 5   Exchange_Rate     1979 non-null   float64\n",
      " 6   Export_Value      1979 non-null   float64\n",
      "dtypes: float64(4), int64(2), object(1)\n",
      "memory usage: 108.4+ KB\n"
     ]
    }
   ],
   "source": [
    "# general info of dataset\n",
    "merged_data.info()"
   ]
  },
  {
   "cell_type": "code",
   "execution_count": 16,
   "metadata": {},
   "outputs": [],
   "source": [
    "# Convert the Land_use column from int64 to float\n",
    "merged_data['Land_use'] = merged_data['Land_use'].astype(float) \n",
    "\n",
    "# Convert the Total_Production column from int64 to float\n",
    "merged_data['Total_Production'] = merged_data['Total_Production'].astype(float)"
   ]
  },
  {
   "cell_type": "code",
   "execution_count": 17,
   "metadata": {},
   "outputs": [
    {
     "name": "stdout",
     "output_type": "stream",
     "text": [
      "<class 'pandas.core.frame.DataFrame'>\n",
      "RangeIndex: 1979 entries, 0 to 1978\n",
      "Data columns (total 7 columns):\n",
      " #   Column            Non-Null Count  Dtype  \n",
      "---  ------            --------------  -----  \n",
      " 0   Area              1979 non-null   object \n",
      " 1   Year              1979 non-null   int64  \n",
      " 2   Land_use          1979 non-null   float64\n",
      " 3   Total_Production  1979 non-null   float64\n",
      " 4   Export_Quantity   1979 non-null   float64\n",
      " 5   Exchange_Rate     1979 non-null   float64\n",
      " 6   Export_Value      1979 non-null   float64\n",
      "dtypes: float64(5), int64(1), object(1)\n",
      "memory usage: 108.4+ KB\n"
     ]
    }
   ],
   "source": [
    "merged_data.info()"
   ]
  },
  {
   "cell_type": "markdown",
   "metadata": {},
   "source": [
    "#### Load data"
   ]
  },
  {
   "cell_type": "code",
   "execution_count": 19,
   "metadata": {},
   "outputs": [],
   "source": [
    "# save cleaned dataset to feature store \n",
    "merged_data.to_csv(data_path+\"export.csv\",index=False)"
   ]
  }
 ],
 "metadata": {
  "kernelspec": {
   "display_name": "Python 3.10 - SDK v2",
   "language": "python",
   "name": "python310-sdkv2"
  }
 },
 "nbformat": 4,
 "nbformat_minor": 2
}
